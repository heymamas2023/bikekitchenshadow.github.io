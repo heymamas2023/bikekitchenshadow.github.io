{
  "nbformat": 4,
  "nbformat_minor": 0,
  "metadata": {
    "colab": {
      "provenance": [],
      "authorship_tag": "ABX9TyOLB9sEWGmMdWF4h3l07orW",
      "include_colab_link": true
    },
    "kernelspec": {
      "name": "python3",
      "display_name": "Python 3"
    },
    "language_info": {
      "name": "python"
    }
  },
  "cells": [
    {
      "cell_type": "markdown",
      "metadata": {
        "id": "view-in-github",
        "colab_type": "text"
      },
      "source": [
        "<a href=\"https://colab.research.google.com/github/heymamas2023/bikekitchenshadow.github.io/blob/main/Untitled5.ipynb\" target=\"_parent\"><img src=\"https://colab.research.google.com/assets/colab-badge.svg\" alt=\"Open In Colab\"/></a>"
      ]
    },
    {
      "cell_type": "code",
      "execution_count": null,
      "metadata": {
        "id": "PupKK4InolWX"
      },
      "outputs": [],
      "source": [
        "from scan_chain import init_scan_chain, shift_in_bits, cleanup\n",
        "from instruments.sig_gen import connect_sig_gen, set_frequency\n",
        "from instruments.spectrum import connect_spectrum_analyzer, measure_peak_freq\n",
        "import time\n",
        "\n",
        "# Configuration\n",
        "bit_pattern = \"101100111000...\"  # Your actual scan chain bits\n",
        "freq_start = 1e6  # 1 MHz\n",
        "freq_step = 1e6\n",
        "freq_end = 10e6\n",
        "\n",
        "# Setup\n",
        "init_scan_chain()\n",
        "sig_gen = connect_sig_gen()\n",
        "sa = connect_spectrum_analyzer()\n",
        "\n",
        "try:\n",
        "    for freq in range(int(freq_start), int(freq_end + freq_step), int(freq_step)):\n",
        "        print(f\"Setting frequency to {freq/1e6} MHz\")\n",
        "        set_frequency(sig_gen, freq)\n",
        "\n",
        "        print(\"Loading scan chain\")\n",
        "        shift_in_bits(bit_pattern)\n",
        "\n",
        "        print(\"Waiting for DUT response...\")\n",
        "        time.sleep(1.0)\n",
        "\n",
        "        print(\"Measuring signal...\")\n",
        "        measured_freq, amplitude = measure_peak_freq(sa)\n",
        "        print(f\"Measured Frequency: {measured_freq/1e6:.3f} MHz | Amplitude: {amplitude:.2f} dBm\")\n",
        "\n",
        "finally:\n",
        "    cleanup()\n",
        "    sig_gen.write(\"OUTP OFF\")\n"
      ]
    }
  ]
}